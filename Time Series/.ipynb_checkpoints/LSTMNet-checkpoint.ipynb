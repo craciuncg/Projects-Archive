{
 "cells": [
  {
   "cell_type": "code",
   "execution_count": 1,
   "metadata": {
    "colab": {
     "base_uri": "https://localhost:8080/"
    },
    "id": "lnyGuzyb5rQI",
    "outputId": "1e8d4bd5-c164-43c8-95a4-1c0b74d8d2e7"
   },
   "outputs": [
    {
     "name": "stdout",
     "output_type": "stream",
     "text": [
      "Requirement already satisfied: lightning in c:\\users\\cristi\\appdata\\local\\packages\\pythonsoftwarefoundation.python.3.11_qbz5n2kfra8p0\\localcache\\local-packages\\python311\\site-packages (2.0.7)\n",
      "Requirement already satisfied: Jinja2<5.0 in c:\\users\\cristi\\appdata\\local\\packages\\pythonsoftwarefoundation.python.3.11_qbz5n2kfra8p0\\localcache\\local-packages\\python311\\site-packages (from lightning) (3.1.2)\n",
      "Requirement already satisfied: PyYAML<8.0 in c:\\users\\cristi\\appdata\\local\\packages\\pythonsoftwarefoundation.python.3.11_qbz5n2kfra8p0\\localcache\\local-packages\\python311\\site-packages (from lightning) (6.0.1)\n",
      "Requirement already satisfied: arrow<3.0,>=1.2.0 in c:\\users\\cristi\\appdata\\local\\packages\\pythonsoftwarefoundation.python.3.11_qbz5n2kfra8p0\\localcache\\local-packages\\python311\\site-packages (from lightning) (1.2.3)\n",
      "Requirement already satisfied: backoff<4.0,>=2.2.1 in c:\\users\\cristi\\appdata\\local\\packages\\pythonsoftwarefoundation.python.3.11_qbz5n2kfra8p0\\localcache\\local-packages\\python311\\site-packages (from lightning) (2.2.1)\n",
      "Requirement already satisfied: beautifulsoup4<6.0,>=4.8.0 in c:\\users\\cristi\\appdata\\local\\packages\\pythonsoftwarefoundation.python.3.11_qbz5n2kfra8p0\\localcache\\local-packages\\python311\\site-packages (from lightning) (4.12.2)\n",
      "Requirement already satisfied: click<10.0 in c:\\users\\cristi\\appdata\\local\\packages\\pythonsoftwarefoundation.python.3.11_qbz5n2kfra8p0\\localcache\\local-packages\\python311\\site-packages (from lightning) (8.1.7)\n",
      "Requirement already satisfied: croniter<1.5.0,>=1.3.0 in c:\\users\\cristi\\appdata\\local\\packages\\pythonsoftwarefoundation.python.3.11_qbz5n2kfra8p0\\localcache\\local-packages\\python311\\site-packages (from lightning) (1.4.1)\n",
      "Requirement already satisfied: dateutils<2.0 in c:\\users\\cristi\\appdata\\local\\packages\\pythonsoftwarefoundation.python.3.11_qbz5n2kfra8p0\\localcache\\local-packages\\python311\\site-packages (from lightning) (0.6.12)\n",
      "Requirement already satisfied: deepdiff<8.0,>=5.7.0 in c:\\users\\cristi\\appdata\\local\\packages\\pythonsoftwarefoundation.python.3.11_qbz5n2kfra8p0\\localcache\\local-packages\\python311\\site-packages (from lightning) (6.3.1)\n",
      "Requirement already satisfied: fastapi<2.0,>=0.92.0 in c:\\users\\cristi\\appdata\\local\\packages\\pythonsoftwarefoundation.python.3.11_qbz5n2kfra8p0\\localcache\\local-packages\\python311\\site-packages (from lightning) (0.101.1)\n",
      "Requirement already satisfied: fsspec<2025.0,>=2022.5.0 in c:\\users\\cristi\\appdata\\local\\packages\\pythonsoftwarefoundation.python.3.11_qbz5n2kfra8p0\\localcache\\local-packages\\python311\\site-packages (from lightning) (2023.6.0)\n",
      "Requirement already satisfied: inquirer<5.0,>=2.10.0 in c:\\users\\cristi\\appdata\\local\\packages\\pythonsoftwarefoundation.python.3.11_qbz5n2kfra8p0\\localcache\\local-packages\\python311\\site-packages (from lightning) (3.1.3)\n",
      "Requirement already satisfied: lightning-cloud>=0.5.37 in c:\\users\\cristi\\appdata\\local\\packages\\pythonsoftwarefoundation.python.3.11_qbz5n2kfra8p0\\localcache\\local-packages\\python311\\site-packages (from lightning) (0.5.37)\n",
      "Requirement already satisfied: lightning-utilities<2.0,>=0.7.0 in c:\\users\\cristi\\appdata\\local\\packages\\pythonsoftwarefoundation.python.3.11_qbz5n2kfra8p0\\localcache\\local-packages\\python311\\site-packages (from lightning) (0.9.0)\n",
      "Requirement already satisfied: numpy<3.0,>=1.17.2 in c:\\users\\cristi\\appdata\\local\\packages\\pythonsoftwarefoundation.python.3.11_qbz5n2kfra8p0\\localcache\\local-packages\\python311\\site-packages (from lightning) (1.24.3)\n",
      "Requirement already satisfied: packaging in c:\\users\\cristi\\appdata\\local\\packages\\pythonsoftwarefoundation.python.3.11_qbz5n2kfra8p0\\localcache\\local-packages\\python311\\site-packages (from lightning) (23.1)\n",
      "Requirement already satisfied: psutil<7.0 in c:\\users\\cristi\\appdata\\local\\packages\\pythonsoftwarefoundation.python.3.11_qbz5n2kfra8p0\\localcache\\local-packages\\python311\\site-packages (from lightning) (5.9.5)\n",
      "Requirement already satisfied: pydantic<2.2.0,>=1.7.4 in c:\\users\\cristi\\appdata\\local\\packages\\pythonsoftwarefoundation.python.3.11_qbz5n2kfra8p0\\localcache\\local-packages\\python311\\site-packages (from lightning) (2.1.1)\n",
      "Requirement already satisfied: python-multipart<2.0,>=0.0.5 in c:\\users\\cristi\\appdata\\local\\packages\\pythonsoftwarefoundation.python.3.11_qbz5n2kfra8p0\\localcache\\local-packages\\python311\\site-packages (from lightning) (0.0.6)\n",
      "Requirement already satisfied: requests<4.0 in c:\\users\\cristi\\appdata\\local\\packages\\pythonsoftwarefoundation.python.3.11_qbz5n2kfra8p0\\localcache\\local-packages\\python311\\site-packages (from lightning) (2.31.0)\n",
      "Requirement already satisfied: rich<15.0,>=12.3.0 in c:\\users\\cristi\\appdata\\local\\packages\\pythonsoftwarefoundation.python.3.11_qbz5n2kfra8p0\\localcache\\local-packages\\python311\\site-packages (from lightning) (13.5.2)\n",
      "Requirement already satisfied: starlette in c:\\users\\cristi\\appdata\\local\\packages\\pythonsoftwarefoundation.python.3.11_qbz5n2kfra8p0\\localcache\\local-packages\\python311\\site-packages (from lightning) (0.27.0)\n",
      "Requirement already satisfied: starsessions<2.0,>=1.2.1 in c:\\users\\cristi\\appdata\\local\\packages\\pythonsoftwarefoundation.python.3.11_qbz5n2kfra8p0\\localcache\\local-packages\\python311\\site-packages (from lightning) (1.3.0)\n",
      "Requirement already satisfied: torch<4.0,>=1.11.0 in c:\\users\\cristi\\appdata\\local\\packages\\pythonsoftwarefoundation.python.3.11_qbz5n2kfra8p0\\localcache\\local-packages\\python311\\site-packages (from lightning) (2.0.1)\n",
      "Requirement already satisfied: torchmetrics<2.0,>=0.7.0 in c:\\users\\cristi\\appdata\\local\\packages\\pythonsoftwarefoundation.python.3.11_qbz5n2kfra8p0\\localcache\\local-packages\\python311\\site-packages (from lightning) (1.1.0)\n",
      "Requirement already satisfied: tqdm<6.0,>=4.57.0 in c:\\users\\cristi\\appdata\\local\\packages\\pythonsoftwarefoundation.python.3.11_qbz5n2kfra8p0\\localcache\\local-packages\\python311\\site-packages (from lightning) (4.66.1)\n",
      "Requirement already satisfied: traitlets<7.0,>=5.3.0 in c:\\users\\cristi\\appdata\\local\\packages\\pythonsoftwarefoundation.python.3.11_qbz5n2kfra8p0\\localcache\\local-packages\\python311\\site-packages (from lightning) (5.9.0)\n",
      "Requirement already satisfied: typing-extensions<6.0,>=4.0.0 in c:\\users\\cristi\\appdata\\local\\packages\\pythonsoftwarefoundation.python.3.11_qbz5n2kfra8p0\\localcache\\local-packages\\python311\\site-packages (from lightning) (4.7.1)\n",
      "Requirement already satisfied: urllib3<4.0 in c:\\users\\cristi\\appdata\\local\\packages\\pythonsoftwarefoundation.python.3.11_qbz5n2kfra8p0\\localcache\\local-packages\\python311\\site-packages (from lightning) (2.0.4)\n",
      "Requirement already satisfied: uvicorn<2.0 in c:\\users\\cristi\\appdata\\local\\packages\\pythonsoftwarefoundation.python.3.11_qbz5n2kfra8p0\\localcache\\local-packages\\python311\\site-packages (from lightning) (0.23.2)\n",
      "Requirement already satisfied: websocket-client<3.0 in c:\\users\\cristi\\appdata\\local\\packages\\pythonsoftwarefoundation.python.3.11_qbz5n2kfra8p0\\localcache\\local-packages\\python311\\site-packages (from lightning) (1.6.2)\n",
      "Requirement already satisfied: websockets<13.0 in c:\\users\\cristi\\appdata\\local\\packages\\pythonsoftwarefoundation.python.3.11_qbz5n2kfra8p0\\localcache\\local-packages\\python311\\site-packages (from lightning) (11.0.3)\n",
      "Requirement already satisfied: pytorch-lightning in c:\\users\\cristi\\appdata\\local\\packages\\pythonsoftwarefoundation.python.3.11_qbz5n2kfra8p0\\localcache\\local-packages\\python311\\site-packages (from lightning) (2.0.7)\n",
      "Requirement already satisfied: python-dateutil>=2.7.0 in c:\\users\\cristi\\appdata\\local\\packages\\pythonsoftwarefoundation.python.3.11_qbz5n2kfra8p0\\localcache\\local-packages\\python311\\site-packages (from arrow<3.0,>=1.2.0->lightning) (2.8.2)\n",
      "Requirement already satisfied: soupsieve>1.2 in c:\\users\\cristi\\appdata\\local\\packages\\pythonsoftwarefoundation.python.3.11_qbz5n2kfra8p0\\localcache\\local-packages\\python311\\site-packages (from beautifulsoup4<6.0,>=4.8.0->lightning) (2.4.1)\n",
      "Requirement already satisfied: colorama in c:\\users\\cristi\\appdata\\local\\packages\\pythonsoftwarefoundation.python.3.11_qbz5n2kfra8p0\\localcache\\local-packages\\python311\\site-packages (from click<10.0->lightning) (0.4.6)\n",
      "Requirement already satisfied: pytz in c:\\users\\cristi\\appdata\\local\\packages\\pythonsoftwarefoundation.python.3.11_qbz5n2kfra8p0\\localcache\\local-packages\\python311\\site-packages (from dateutils<2.0->lightning) (2023.3)\n",
      "Requirement already satisfied: ordered-set<4.2.0,>=4.0.2 in c:\\users\\cristi\\appdata\\local\\packages\\pythonsoftwarefoundation.python.3.11_qbz5n2kfra8p0\\localcache\\local-packages\\python311\\site-packages (from deepdiff<8.0,>=5.7.0->lightning) (4.1.0)\n",
      "Requirement already satisfied: aiohttp!=4.0.0a0,!=4.0.0a1 in c:\\users\\cristi\\appdata\\local\\packages\\pythonsoftwarefoundation.python.3.11_qbz5n2kfra8p0\\localcache\\local-packages\\python311\\site-packages (from fsspec<2025.0,>=2022.5.0->lightning) (3.8.5)\n",
      "Requirement already satisfied: blessed>=1.19.0 in c:\\users\\cristi\\appdata\\local\\packages\\pythonsoftwarefoundation.python.3.11_qbz5n2kfra8p0\\localcache\\local-packages\\python311\\site-packages (from inquirer<5.0,>=2.10.0->lightning) (1.20.0)\n",
      "Requirement already satisfied: python-editor>=1.0.4 in c:\\users\\cristi\\appdata\\local\\packages\\pythonsoftwarefoundation.python.3.11_qbz5n2kfra8p0\\localcache\\local-packages\\python311\\site-packages (from inquirer<5.0,>=2.10.0->lightning) (1.0.4)\n",
      "Requirement already satisfied: readchar>=3.0.6 in c:\\users\\cristi\\appdata\\local\\packages\\pythonsoftwarefoundation.python.3.11_qbz5n2kfra8p0\\localcache\\local-packages\\python311\\site-packages (from inquirer<5.0,>=2.10.0->lightning) (4.0.5)\n",
      "Requirement already satisfied: MarkupSafe>=2.0 in c:\\users\\cristi\\appdata\\local\\packages\\pythonsoftwarefoundation.python.3.11_qbz5n2kfra8p0\\localcache\\local-packages\\python311\\site-packages (from Jinja2<5.0->lightning) (2.1.3)\n",
      "Requirement already satisfied: pyjwt in c:\\users\\cristi\\appdata\\local\\packages\\pythonsoftwarefoundation.python.3.11_qbz5n2kfra8p0\\localcache\\local-packages\\python311\\site-packages (from lightning-cloud>=0.5.37->lightning) (2.8.0)\n",
      "Requirement already satisfied: six in c:\\users\\cristi\\appdata\\local\\packages\\pythonsoftwarefoundation.python.3.11_qbz5n2kfra8p0\\localcache\\local-packages\\python311\\site-packages (from lightning-cloud>=0.5.37->lightning) (1.16.0)\n",
      "Requirement already satisfied: annotated-types>=0.4.0 in c:\\users\\cristi\\appdata\\local\\packages\\pythonsoftwarefoundation.python.3.11_qbz5n2kfra8p0\\localcache\\local-packages\\python311\\site-packages (from pydantic<2.2.0,>=1.7.4->lightning) (0.5.0)\n",
      "Requirement already satisfied: pydantic-core==2.4.0 in c:\\users\\cristi\\appdata\\local\\packages\\pythonsoftwarefoundation.python.3.11_qbz5n2kfra8p0\\localcache\\local-packages\\python311\\site-packages (from pydantic<2.2.0,>=1.7.4->lightning) (2.4.0)\n",
      "Requirement already satisfied: charset-normalizer<4,>=2 in c:\\users\\cristi\\appdata\\local\\packages\\pythonsoftwarefoundation.python.3.11_qbz5n2kfra8p0\\localcache\\local-packages\\python311\\site-packages (from requests<4.0->lightning) (3.2.0)\n",
      "Requirement already satisfied: idna<4,>=2.5 in c:\\users\\cristi\\appdata\\local\\packages\\pythonsoftwarefoundation.python.3.11_qbz5n2kfra8p0\\localcache\\local-packages\\python311\\site-packages (from requests<4.0->lightning) (3.4)\n",
      "Requirement already satisfied: certifi>=2017.4.17 in c:\\users\\cristi\\appdata\\local\\packages\\pythonsoftwarefoundation.python.3.11_qbz5n2kfra8p0\\localcache\\local-packages\\python311\\site-packages (from requests<4.0->lightning) (2023.7.22)\n",
      "Requirement already satisfied: markdown-it-py>=2.2.0 in c:\\users\\cristi\\appdata\\local\\packages\\pythonsoftwarefoundation.python.3.11_qbz5n2kfra8p0\\localcache\\local-packages\\python311\\site-packages (from rich<15.0,>=12.3.0->lightning) (3.0.0)\n",
      "Requirement already satisfied: pygments<3.0.0,>=2.13.0 in c:\\users\\cristi\\appdata\\local\\packages\\pythonsoftwarefoundation.python.3.11_qbz5n2kfra8p0\\localcache\\local-packages\\python311\\site-packages (from rich<15.0,>=12.3.0->lightning) (2.16.1)\n",
      "Requirement already satisfied: anyio<5,>=3.4.0 in c:\\users\\cristi\\appdata\\local\\packages\\pythonsoftwarefoundation.python.3.11_qbz5n2kfra8p0\\localcache\\local-packages\\python311\\site-packages (from starlette->lightning) (3.7.1)\n",
      "Requirement already satisfied: itsdangerous<3.0.0,>=2.0.1 in c:\\users\\cristi\\appdata\\local\\packages\\pythonsoftwarefoundation.python.3.11_qbz5n2kfra8p0\\localcache\\local-packages\\python311\\site-packages (from starsessions<2.0,>=1.2.1->lightning) (2.1.2)\n",
      "Requirement already satisfied: filelock in c:\\users\\cristi\\appdata\\local\\packages\\pythonsoftwarefoundation.python.3.11_qbz5n2kfra8p0\\localcache\\local-packages\\python311\\site-packages (from torch<4.0,>=1.11.0->lightning) (3.12.2)\n",
      "Requirement already satisfied: sympy in c:\\users\\cristi\\appdata\\local\\packages\\pythonsoftwarefoundation.python.3.11_qbz5n2kfra8p0\\localcache\\local-packages\\python311\\site-packages (from torch<4.0,>=1.11.0->lightning) (1.12)\n",
      "Requirement already satisfied: networkx in c:\\users\\cristi\\appdata\\local\\packages\\pythonsoftwarefoundation.python.3.11_qbz5n2kfra8p0\\localcache\\local-packages\\python311\\site-packages (from torch<4.0,>=1.11.0->lightning) (3.1)\n",
      "Requirement already satisfied: h11>=0.8 in c:\\users\\cristi\\appdata\\local\\packages\\pythonsoftwarefoundation.python.3.11_qbz5n2kfra8p0\\localcache\\local-packages\\python311\\site-packages (from uvicorn<2.0->lightning) (0.14.0)\n",
      "Requirement already satisfied: attrs>=17.3.0 in c:\\users\\cristi\\appdata\\local\\packages\\pythonsoftwarefoundation.python.3.11_qbz5n2kfra8p0\\localcache\\local-packages\\python311\\site-packages (from aiohttp!=4.0.0a0,!=4.0.0a1->fsspec<2025.0,>=2022.5.0->lightning) (23.1.0)\n",
      "Requirement already satisfied: multidict<7.0,>=4.5 in c:\\users\\cristi\\appdata\\local\\packages\\pythonsoftwarefoundation.python.3.11_qbz5n2kfra8p0\\localcache\\local-packages\\python311\\site-packages (from aiohttp!=4.0.0a0,!=4.0.0a1->fsspec<2025.0,>=2022.5.0->lightning) (6.0.4)\n",
      "Requirement already satisfied: async-timeout<5.0,>=4.0.0a3 in c:\\users\\cristi\\appdata\\local\\packages\\pythonsoftwarefoundation.python.3.11_qbz5n2kfra8p0\\localcache\\local-packages\\python311\\site-packages (from aiohttp!=4.0.0a0,!=4.0.0a1->fsspec<2025.0,>=2022.5.0->lightning) (4.0.3)\n",
      "Requirement already satisfied: yarl<2.0,>=1.0 in c:\\users\\cristi\\appdata\\local\\packages\\pythonsoftwarefoundation.python.3.11_qbz5n2kfra8p0\\localcache\\local-packages\\python311\\site-packages (from aiohttp!=4.0.0a0,!=4.0.0a1->fsspec<2025.0,>=2022.5.0->lightning) (1.9.2)\n",
      "Requirement already satisfied: frozenlist>=1.1.1 in c:\\users\\cristi\\appdata\\local\\packages\\pythonsoftwarefoundation.python.3.11_qbz5n2kfra8p0\\localcache\\local-packages\\python311\\site-packages (from aiohttp!=4.0.0a0,!=4.0.0a1->fsspec<2025.0,>=2022.5.0->lightning) (1.4.0)\n",
      "Requirement already satisfied: aiosignal>=1.1.2 in c:\\users\\cristi\\appdata\\local\\packages\\pythonsoftwarefoundation.python.3.11_qbz5n2kfra8p0\\localcache\\local-packages\\python311\\site-packages (from aiohttp!=4.0.0a0,!=4.0.0a1->fsspec<2025.0,>=2022.5.0->lightning) (1.3.1)\n",
      "Requirement already satisfied: sniffio>=1.1 in c:\\users\\cristi\\appdata\\local\\packages\\pythonsoftwarefoundation.python.3.11_qbz5n2kfra8p0\\localcache\\local-packages\\python311\\site-packages (from anyio<5,>=3.4.0->starlette->lightning) (1.3.0)\n",
      "Requirement already satisfied: wcwidth>=0.1.4 in c:\\users\\cristi\\appdata\\local\\packages\\pythonsoftwarefoundation.python.3.11_qbz5n2kfra8p0\\localcache\\local-packages\\python311\\site-packages (from blessed>=1.19.0->inquirer<5.0,>=2.10.0->lightning) (0.2.6)\n",
      "Requirement already satisfied: jinxed>=1.1.0 in c:\\users\\cristi\\appdata\\local\\packages\\pythonsoftwarefoundation.python.3.11_qbz5n2kfra8p0\\localcache\\local-packages\\python311\\site-packages (from blessed>=1.19.0->inquirer<5.0,>=2.10.0->lightning) (1.2.0)\n",
      "Requirement already satisfied: mdurl~=0.1 in c:\\users\\cristi\\appdata\\local\\packages\\pythonsoftwarefoundation.python.3.11_qbz5n2kfra8p0\\localcache\\local-packages\\python311\\site-packages (from markdown-it-py>=2.2.0->rich<15.0,>=12.3.0->lightning) (0.1.2)\n",
      "Requirement already satisfied: setuptools>=41.0 in c:\\program files\\windowsapps\\pythonsoftwarefoundation.python.3.11_3.11.1520.0_x64__qbz5n2kfra8p0\\lib\\site-packages (from readchar>=3.0.6->inquirer<5.0,>=2.10.0->lightning) (65.5.0)\n",
      "Requirement already satisfied: mpmath>=0.19 in c:\\users\\cristi\\appdata\\local\\packages\\pythonsoftwarefoundation.python.3.11_qbz5n2kfra8p0\\localcache\\local-packages\\python311\\site-packages (from sympy->torch<4.0,>=1.11.0->lightning) (1.3.0)\n",
      "Requirement already satisfied: ansicon in c:\\users\\cristi\\appdata\\local\\packages\\pythonsoftwarefoundation.python.3.11_qbz5n2kfra8p0\\localcache\\local-packages\\python311\\site-packages (from jinxed>=1.1.0->blessed>=1.19.0->inquirer<5.0,>=2.10.0->lightning) (1.89.0)\n"
     ]
    }
   ],
   "source": [
    "!pip install lightning\n",
    "%config IPCompleter.greedy=True"
   ]
  },
  {
   "cell_type": "markdown",
   "metadata": {
    "id": "D-zaFoOH5dlX"
   },
   "source": [
    "Import biblioteci"
   ]
  },
  {
   "cell_type": "code",
   "execution_count": 2,
   "metadata": {
    "id": "1snYEJ5w4Q32"
   },
   "outputs": [],
   "source": [
    "import pandas as pd\n",
    "import scipy\n",
    "import numpy as np\n",
    "from sklearn.model_selection import train_test_split\n",
    "import matplotlib.pyplot as plt\n",
    "\n",
    "from sklearn.preprocessing import MinMaxScaler\n",
    "\n",
    "import torch\n",
    "import torch.nn as nn\n",
    "import torch.optim as optim\n",
    "import torch.nn.functional as F\n",
    "\n",
    "import pytorch_lightning as pl\n",
    "from torch.autograd import Variable\n",
    "import logging\n",
    "\n",
    "from torch.utils.data import TensorDataset, DataLoader\n",
    "from torch.optim import Adam\n",
    "\n",
    "data_file = 'AAPL_history.csv'\n",
    "\n",
    "torch.set_default_dtype(torch.float64)"
   ]
  },
  {
   "cell_type": "code",
   "execution_count": 4,
   "metadata": {},
   "outputs": [],
   "source": [
    "NUM_EPOCHS = 100"
   ]
  },
  {
   "cell_type": "markdown",
   "metadata": {
    "id": "ZxckMDT53mLh"
   },
   "source": [
    "Citire date"
   ]
  },
  {
   "cell_type": "code",
   "execution_count": 5,
   "metadata": {
    "colab": {
     "base_uri": "https://localhost:8080/"
    },
    "id": "7RNUYpCdc8hX",
    "outputId": "10368a9e-0d2d-44ff-b8be-74d93124c1f6"
   },
   "outputs": [
    {
     "name": "stdout",
     "output_type": "stream",
     "text": [
      "                          Date        Open        High         Low  \\\n",
      "0    2022-01-03 00:00:00-05:00  176.052746  181.052279  175.933951   \n",
      "1    2022-01-04 00:00:00-05:00  180.804778  181.111677  177.329848   \n",
      "2    2022-01-05 00:00:00-05:00  177.814959  178.369360  172.894629   \n",
      "3    2022-01-06 00:00:00-05:00  170.974007  173.548028  169.924603   \n",
      "4    2022-01-07 00:00:00-05:00  171.162131  172.399639  169.320719   \n",
      "..                         ...         ...         ...         ...   \n",
      "246  2022-12-23 00:00:00-05:00  130.363811  131.857438  129.089250   \n",
      "247  2022-12-27 00:00:00-05:00  130.821856  130.851727  128.173153   \n",
      "248  2022-12-28 00:00:00-05:00  129.119123  130.473346  125.335271   \n",
      "249  2022-12-29 00:00:00-05:00  127.446252  129.925671  127.187362   \n",
      "250  2022-12-30 00:00:00-05:00  127.864474  129.397925  126.888634   \n",
      "\n",
      "          Close     Volume  Dividends  Stock Splits  \n",
      "0    180.190964  104487900        0.0           0.0  \n",
      "1    177.904053   99310400        0.0           0.0  \n",
      "2    173.171829   94537600        0.0           0.0  \n",
      "3    170.281006   96904000        0.0           0.0  \n",
      "4    170.449326   86709100        0.0           0.0  \n",
      "..          ...        ...        ...           ...  \n",
      "246  131.299820   63814900        0.0           0.0  \n",
      "247  129.477585   69007800        0.0           0.0  \n",
      "248  125.504547   85438400        0.0           0.0  \n",
      "249  129.059372   75703700        0.0           0.0  \n",
      "250  129.378006   77034200        0.0           0.0  \n",
      "\n",
      "[251 rows x 8 columns]\n"
     ]
    }
   ],
   "source": [
    "data = pd.read_csv(data_file)\n",
    "print(data)"
   ]
  },
  {
   "cell_type": "markdown",
   "metadata": {
    "id": "w0ElTi1U3nzW"
   },
   "source": [
    "Date antrenament + feature-uri"
   ]
  },
  {
   "cell_type": "code",
   "execution_count": 6,
   "metadata": {
    "colab": {
     "base_uri": "https://localhost:8080/"
    },
    "id": "_NA4-mQT3Vg_",
    "outputId": "cefbc481-fd77-44ef-c8bf-8a95f6a7a958"
   },
   "outputs": [
    {
     "name": "stdout",
     "output_type": "stream",
     "text": [
      "           Open        High         Low       Close     Volume\n",
      "0    176.052746  181.052279  175.933951  180.190964  104487900\n",
      "1    180.804778  181.111677  177.329848  177.904053   99310400\n",
      "2    177.814959  178.369360  172.894629  173.171829   94537600\n",
      "3    170.974007  173.548028  169.924603  170.281006   96904000\n",
      "4    171.162131  172.399639  169.320719  170.449326   86709100\n",
      "..          ...         ...         ...         ...        ...\n",
      "246  130.363811  131.857438  129.089250  131.299820   63814900\n",
      "247  130.821856  130.851727  128.173153  129.477585   69007800\n",
      "248  129.119123  130.473346  125.335271  125.504547   85438400\n",
      "249  127.446252  129.925671  127.187362  129.059372   75703700\n",
      "250  127.864474  129.397925  126.888634  129.378006   77034200\n",
      "\n",
      "[251 rows x 5 columns]\n"
     ]
    }
   ],
   "source": [
    "training_data = data[data.columns[1:6]]\n",
    "print(training_data)"
   ]
  },
  {
   "cell_type": "markdown",
   "metadata": {
    "id": "Imb1R_8x4bKG"
   },
   "source": [
    "Definire model"
   ]
  },
  {
   "cell_type": "markdown",
   "metadata": {
    "id": "VIXmWUcy4YGN"
   },
   "source": [
    "Data load"
   ]
  },
  {
   "cell_type": "code",
   "execution_count": 7,
   "metadata": {
    "colab": {
     "base_uri": "https://localhost:8080/"
    },
    "id": "_4OOxDcFppS_",
    "outputId": "0069feed-9aab-4f40-f085-f6eb8d13ecbc"
   },
   "outputs": [],
   "source": [
    "def sliding_window(data, win_size):\n",
    "    inputs = []\n",
    "    labels = []\n",
    "    data_array = data.numpy()\n",
    "    \n",
    "    for i in range(len(data_array) - win_size):\n",
    "        data_slice_input = data_array[i:i+win_size-1]\n",
    "        data_slice_label = data_array[i+win_size-1]\n",
    "        \n",
    "        inputs.append(data_slice_input)\n",
    "        labels.append(data_slice_label)\n",
    "    \n",
    "    inputs = torch.tensor(np.expand_dims(np.array(inputs), axis=2))\n",
    "    labels = torch.tensor(np.array(labels))\n",
    "    return inputs, labels\n",
    "\n",
    "# Get training data\n",
    "sc = MinMaxScaler()\n",
    "training_data = torch.flip(torch.tensor(training_data['Open']), [0])\n",
    "training_data = training_data.unsqueeze(1).numpy()\n",
    "training_tensor = torch.tensor(sc.fit_transform(training_data)).view(-1)\n",
    "\n",
    "# Generate training data\n",
    "inputs, labels = sliding_window(training_tensor, 5)\n",
    "\n",
    "# Create dataloader\n",
    "dataset = TensorDataset(inputs, labels)\n",
    "dataloader = DataLoader(dataset)\n"
   ]
  },
  {
   "cell_type": "code",
   "execution_count": 8,
   "metadata": {
    "id": "8AKSbS7V3t1i"
   },
   "outputs": [],
   "source": [
    "def map_tensor(fun, data):\n",
    "    data_mapped = []\n",
    "    for i in range(len(data)):\n",
    "        data_mapped.append(fun(torch.tensor([data[i]], dtype=torch.float64)))\n",
    "\n",
    "    if data_mapped == []:\n",
    "        return []\n",
    "    data_out = torch.stack(data_mapped, dim=0)\n",
    "    \n",
    "    return data_out\n",
    "\n",
    "def map_tensor_out(fun, data):\n",
    "    data_mapped = []\n",
    "    for i in range(len(data)):\n",
    "        data_mapped.append(fun(data[i]))\n",
    "\n",
    "    data_out = torch.stack(data_mapped, dim=0)\n",
    "\n",
    "    return data_out\n",
    "\n",
    "def init_weights(m):\n",
    "    if isinstance(m, nn.Linear):\n",
    "        m.weight.data.uniform_(0.0, 1.0)\n",
    "        m.bias.data.fill_(0.01)\n",
    "\n",
    "class TestLSTM(pl.LightningModule):\n",
    "    def __init__(self):\n",
    "        super().__init__()\n",
    "\n",
    "        #self.in_layer = nn.Sequential(nn.Linear(1, 5), nn.ReLU(), nn.Linear(5, 5), nn.ReLU())\n",
    "        #self.out_layer = nn.Sequential(nn.Linear(5, 5), nn.ReLU(), nn.Linear(5, 1), nn.ReLU())\n",
    "        self.out_layer = nn.Linear(5, 1)\n",
    "        #self.in_layer.apply(init_weights)\n",
    "        self.out_layer.apply(init_weights)\n",
    "    \n",
    "        self.lstm = nn.LSTM(input_size=1, hidden_size=5)\n",
    "\n",
    "        self.lr = 0.2\n",
    "        self.loss_fn = nn.MSELoss()\n",
    "\n",
    "        self.total_loss = 0\n",
    "\n",
    "    def forward(self, input):\n",
    "        \n",
    "        lstm_input = input\n",
    "        lstm_out, _ = self.lstm(lstm_input)\n",
    "        output = self.out_layer(lstm_out)\n",
    "        return output\n",
    "\n",
    "    def configure_optimizers(self):\n",
    "        return Adam(self.parameters(), lr=self.lr)\n",
    "\n",
    "    def training_step(self, batch, batch_idx):\n",
    "        input, label = batch\n",
    "        output = self.forward(input[0])\n",
    "        loss = self.loss_fn(output[0], label[0])\n",
    "\n",
    "        self.total_loss += loss\n",
    "\n",
    "        if batch_idx == 1:\n",
    "            print('output: ', output)\n",
    "    \n",
    "        return loss\n",
    "\n",
    "    def on_train_epoch_end(self):\n",
    "        print('total_loss: ', total_loss)\n",
    "        self.total_loss = 0\n",
    "        \n",
    "\n",
    "\n"
   ]
  },
  {
   "cell_type": "code",
   "execution_count": null,
   "metadata": {},
   "outputs": [],
   "source": [
    "# Init model\n",
    "model = TestLSTM()"
   ]
  },
  {
   "cell_type": "code",
   "execution_count": null,
   "metadata": {},
   "outputs": [],
   "source": [
    "model.load_state_dict(torch.load('model_v1'))\n",
    "model.eval()"
   ]
  },
  {
   "cell_type": "code",
   "execution_count": 9,
   "metadata": {
    "colab": {
     "base_uri": "https://localhost:8080/"
    },
    "id": "ATeBaQgdiCSz",
    "outputId": "28a87515-e8ef-4dcb-f72e-72afd7f64c4c"
   },
   "outputs": [
    {
     "name": "stdout",
     "output_type": "stream",
     "text": [
      "tensor([[[-0.0306],\n",
      "         [-0.0300],\n",
      "         [-0.0322],\n",
      "         [-0.0344]],\n",
      "\n",
      "        [[-0.0194],\n",
      "         [-0.0209],\n",
      "         [-0.0244],\n",
      "         [-0.0255]],\n",
      "\n",
      "        [[-0.0006],\n",
      "         [-0.0036],\n",
      "         [-0.0056],\n",
      "         [-0.0096]],\n",
      "\n",
      "        [[ 0.0124],\n",
      "         [ 0.0106],\n",
      "         [ 0.0065],\n",
      "         [ 0.0044]],\n",
      "\n",
      "        [[ 0.0210],\n",
      "         [ 0.0173],\n",
      "         [ 0.0148],\n",
      "         [ 0.0154]]], grad_fn=<SliceBackward0>)\n",
      "tensor([-3.4409e-02, -2.5540e-02, -9.5632e-03,  4.4305e-03,  1.5423e-02,\n",
      "         1.9438e-02,  1.9325e-02,  1.5428e-02,  8.2614e-03, -8.1530e-04,\n",
      "        -2.1765e-03, -6.2891e-04, -1.1454e-04,  1.7820e-04, -3.6057e-03,\n",
      "        -8.1714e-03, -9.5239e-03, -1.1727e-02, -8.2402e-03, -6.3936e-03,\n",
      "        -7.2282e-03, -1.0505e-02, -1.4459e-02, -1.6021e-02, -1.8330e-02,\n",
      "        -2.2422e-02, -2.0493e-02, -1.9859e-02, -2.3332e-02, -2.3521e-02,\n",
      "        -1.9779e-02, -1.2775e-02, -4.9539e-03, -1.0101e-03,  3.5419e-03,\n",
      "         3.6714e-03,  2.3674e-03, -3.5444e-03, -1.4560e-02, -2.1546e-02,\n",
      "        -2.0819e-02, -1.9084e-02, -2.0891e-02, -2.2274e-02, -2.0254e-02,\n",
      "        -1.4492e-02, -9.9286e-03, -6.2056e-03, -6.5093e-03, -4.1641e-03,\n",
      "        -3.7080e-03,  3.0763e-03,  6.9766e-03,  7.0937e-03,  6.8372e-03,\n",
      "         4.9813e-03,  6.0723e-04, -1.6393e-03, -3.1377e-03,  1.0679e-03,\n",
      "         3.2521e-03, -6.0402e-04, -5.6663e-03, -1.3315e-02, -1.7114e-02,\n",
      "        -1.9735e-02, -2.3200e-02, -3.0201e-02, -3.2707e-02, -2.9357e-02,\n",
      "        -2.8110e-02, -3.1258e-02, -3.4355e-02, -4.0841e-02, -4.6270e-02,\n",
      "        -4.5597e-02, -4.3402e-02, -4.2293e-02, -4.3290e-02, -4.7461e-02,\n",
      "        -4.8042e-02, -5.0864e-02, -5.5665e-02, -5.8193e-02, -6.8757e-02,\n",
      "        -7.6641e-02, -7.9461e-02, -8.0936e-02, -8.4870e-02, -9.1828e-02,\n",
      "        -9.8013e-02, -1.0113e-01, -1.0309e-01, -1.0321e-01, -1.0129e-01,\n",
      "        -1.0011e-01, -9.6940e-02, -9.0402e-02, -8.7927e-02, -8.3676e-02,\n",
      "        -8.2623e-02, -7.7228e-02, -7.1520e-02, -6.8732e-02, -6.7323e-02,\n",
      "        -6.2039e-02, -5.3150e-02, -4.6182e-02, -4.3390e-02, -4.3202e-02,\n",
      "        -4.2343e-02, -3.8186e-02, -3.1660e-02, -2.9262e-02, -2.7778e-02,\n",
      "        -2.1251e-02, -1.4526e-02, -1.2522e-02, -1.1944e-02, -1.0897e-02,\n",
      "        -8.3422e-03, -4.4836e-03,  1.3983e-03,  7.4878e-03,  1.0758e-02,\n",
      "         1.2292e-02,  9.7464e-03,  6.3231e-03,  6.5542e-03,  1.0054e-02,\n",
      "         1.4586e-02,  1.8911e-02,  2.4501e-02,  2.7503e-02,  2.7007e-02,\n",
      "         2.7073e-02,  2.7894e-02,  2.2978e-02,  1.2256e-02,  2.3933e-03,\n",
      "        -5.9183e-04, -3.4266e-03, -6.3897e-03, -9.0337e-03, -1.2867e-02,\n",
      "        -1.5305e-02, -1.3461e-02, -4.6424e-03,  2.0472e-03,  3.5930e-03,\n",
      "         6.4067e-03,  8.3394e-03,  8.4709e-03,  2.9496e-03, -4.3316e-03,\n",
      "        -6.4370e-03, -5.8967e-03, -4.0536e-03, -1.1291e-02, -2.1256e-02,\n",
      "        -2.7206e-02, -3.1772e-02, -4.2116e-02, -4.7326e-02, -4.7890e-02,\n",
      "        -4.6913e-02, -5.1008e-02, -5.2832e-02, -4.9921e-02, -5.3351e-02,\n",
      "        -5.6505e-02, -6.3110e-02, -7.1406e-02, -7.7140e-02, -7.6978e-02,\n",
      "        -7.5030e-02, -8.0712e-02, -8.2972e-02, -8.4031e-02, -8.5816e-02,\n",
      "        -9.0454e-02, -9.3617e-02, -9.6749e-02, -1.0480e-01, -1.0812e-01,\n",
      "        -1.0892e-01, -1.1388e-01, -1.1900e-01, -1.2034e-01, -1.1571e-01,\n",
      "        -1.1393e-01, -1.1026e-01, -1.0380e-01, -9.6324e-02, -8.8880e-02,\n",
      "        -8.0468e-02, -7.2331e-02, -6.5024e-02, -5.3800e-02, -4.5473e-02,\n",
      "        -4.7329e-02, -5.1562e-02, -5.5200e-02, -5.5098e-02, -5.8611e-02,\n",
      "        -6.3413e-02, -7.0606e-02, -7.2215e-02, -7.2458e-02, -7.1381e-02,\n",
      "        -7.1181e-02, -6.0110e-02, -6.2822e-02, -6.8178e-02, -7.5597e-02,\n",
      "        -8.2898e-02, -8.8652e-02, -9.1737e-02, -8.9829e-02, -9.3262e-02,\n",
      "        -9.8996e-02, -1.0514e-01, -1.0480e-01, -1.0491e-01, -1.0428e-01,\n",
      "        -1.0652e-01, -1.0897e-01, -1.0973e-01, -1.0577e-01, -9.7572e-02,\n",
      "        -8.8050e-02, -8.2476e-02, -7.4509e-02, -6.9092e-02, -7.0258e-02,\n",
      "        -7.4478e-02, -8.0551e-02, -8.6623e-02, -9.0638e-02, -9.7988e-02,\n",
      "        -1.0442e-01, -1.0446e-01, -1.0024e-01, -1.0132e-01, -1.0298e-01,\n",
      "        -1.1148e-01], grad_fn=<ViewBackward0>)\n",
      "tensor([0.0547, 0.1187, 0.0931, 0.0634, 0.1329, 0.1624, 0.2448, 0.3240, 0.4014,\n",
      "        0.2745, 0.2678, 0.2682, 0.2650, 0.3561, 0.3691, 0.3353, 0.3773, 0.2503,\n",
      "        0.3042, 0.3200, 0.3792, 0.4005, 0.3758, 0.4137, 0.4538, 0.3441, 0.3945,\n",
      "        0.4522, 0.3915, 0.3327, 0.2473, 0.1961, 0.2318, 0.1702, 0.2631, 0.2582,\n",
      "        0.3865, 0.5007, 0.4650, 0.3726, 0.3701, 0.4240, 0.4078, 0.3538, 0.2733,\n",
      "        0.2761, 0.2513, 0.3221, 0.2397, 0.3001, 0.1265, 0.2036, 0.2179, 0.2276,\n",
      "        0.2671, 0.3280, 0.2956, 0.3135, 0.1864, 0.2436, 0.3334, 0.3621, 0.4572,\n",
      "        0.3998, 0.4283, 0.4504, 0.5429, 0.4694, 0.3932, 0.4286, 0.4927, 0.4953,\n",
      "        0.5905, 0.5848, 0.5080, 0.4926, 0.4959, 0.5266, 0.5878, 0.5298, 0.5982,\n",
      "        0.6321, 0.6138, 0.7893, 0.7560, 0.7288, 0.7243, 0.7729, 0.8352, 0.8486,\n",
      "        0.8303, 0.8305, 0.8070, 0.7754, 0.7798, 0.7355, 0.6673, 0.7111, 0.6522,\n",
      "        0.7001, 0.6039, 0.5901, 0.6071, 0.6113, 0.5321, 0.4502, 0.4443, 0.4768,\n",
      "        0.5025, 0.4859, 0.4231, 0.3635, 0.4160, 0.3981, 0.2921, 0.2718, 0.3233,\n",
      "        0.3217, 0.3140, 0.2774, 0.2413, 0.1747, 0.1425, 0.1650, 0.1689, 0.2558,\n",
      "        0.2664, 0.2143, 0.1570, 0.1192, 0.0938, 0.0314, 0.0688, 0.1099, 0.0884,\n",
      "        0.0835, 0.2214, 0.3479, 0.3758, 0.2971, 0.3470, 0.3446, 0.3619, 0.4004,\n",
      "        0.3849, 0.3165, 0.1676, 0.1870, 0.2313, 0.1751, 0.1992, 0.2139, 0.3436,\n",
      "        0.3810, 0.3194, 0.3016, 0.2677, 0.4673, 0.5049, 0.4939, 0.5140, 0.6554,\n",
      "        0.5778, 0.5495, 0.5228, 0.6181, 0.5700, 0.5079, 0.6257, 0.6047, 0.7039,\n",
      "        0.7494, 0.7466, 0.6772, 0.6567, 0.7812, 0.7212, 0.7329, 0.7457, 0.8028,\n",
      "        0.7912, 0.8135, 0.9090, 0.8546, 0.8446, 0.9153, 0.9285, 0.8940, 0.8100,\n",
      "        0.8418, 0.7894, 0.7323, 0.6863, 0.6491, 0.5934, 0.5581, 0.5291, 0.4149,\n",
      "        0.4251, 0.5640, 0.5876, 0.6114, 0.5620, 0.6463, 0.6673, 0.7413, 0.6655,\n",
      "        0.6712, 0.6408, 0.6552, 0.4461, 0.6868, 0.6764, 0.7663, 0.7888, 0.8041,\n",
      "        0.7877, 0.7208, 0.8130, 0.8466, 0.8821, 0.8018, 0.8228, 0.8009, 0.8488,\n",
      "        0.8538, 0.8401, 0.7686, 0.6861, 0.6256, 0.6451, 0.5612, 0.5805, 0.6621,\n",
      "        0.7096, 0.7657, 0.7937, 0.7905, 0.8729, 0.8792, 0.8087, 0.7486, 0.8193,\n",
      "        0.8158, 0.9440, 1.0000])\n"
     ]
    }
   ],
   "source": [
    "def apply_model(model, data):\n",
    "    data_apply = []\n",
    "    for input in data:\n",
    "        data_apply.append(model(input)[0])\n",
    "    return torch.stack(data_apply, dim=0)\n",
    "\n",
    "\n",
    "\n",
    "pred = model(inputs)\n",
    "\n",
    "print(pred[0:5])\n",
    "\n",
    "pred = pred[:, -1, :]\n",
    "pred = pred.view(-1)\n",
    "print(pred)\n",
    "print(labels)"
   ]
  },
  {
   "cell_type": "markdown",
   "metadata": {
    "id": "fYFPSuAa5FBH"
   },
   "source": [
    "Model training"
   ]
  },
  {
   "cell_type": "code",
   "execution_count": 10,
   "metadata": {
    "colab": {
     "base_uri": "https://localhost:8080/"
    },
    "id": "rCSlylhSdZGN",
    "outputId": "ed191d31-edc5-4f7e-fb08-324ae2a92233"
   },
   "outputs": [
    {
     "name": "stdout",
     "output_type": "stream",
     "text": [
      "loss:  tensor(0.3646, grad_fn=<MseLossBackward0>)\n",
      "loss:  tensor(0.0322, grad_fn=<MseLossBackward0>)\n",
      "loss:  tensor(0.0043, grad_fn=<MseLossBackward0>)\n",
      "loss:  tensor(0.0041, grad_fn=<MseLossBackward0>)\n",
      "loss:  tensor(0.0041, grad_fn=<MseLossBackward0>)\n",
      "loss:  tensor(0.0041, grad_fn=<MseLossBackward0>)\n",
      "loss:  tensor(0.0041, grad_fn=<MseLossBackward0>)\n",
      "loss:  tensor(0.0041, grad_fn=<MseLossBackward0>)\n",
      "loss:  tensor(0.0041, grad_fn=<MseLossBackward0>)\n",
      "loss:  tensor(0.0041, grad_fn=<MseLossBackward0>)\n"
     ]
    }
   ],
   "source": [
    "\n",
    "model.train()\n",
    "torch.set_grad_enabled(True)\n",
    "\n",
    "optimizer = model.configure_optimizers()\n",
    "\n",
    "for epoch in range(500):\n",
    "    outputs = model(inputs)\n",
    "\n",
    "    outputs = outputs[:, -1, :]\n",
    "    outputs = outputs.view(-1)\n",
    "\n",
    "    loss = model.loss_fn(outputs, labels)\n",
    "    \n",
    "    optimizer.zero_grad()\n",
    "    \n",
    "    loss.backward()\n",
    "    \n",
    "    optimizer.step()\n",
    "    if epoch % 50 == 0:\n",
    "        print('loss: ', loss)\n",
    "\n",
    "#trainer.fit(model, train_dataloaders=dataloader)\n"
   ]
  },
  {
   "cell_type": "code",
   "execution_count": 11,
   "metadata": {
    "id": "yVWH6cgrnPzb"
   },
   "outputs": [
    {
     "data": {
      "image/png": "[encoded data removed]",
      "text/plain": [
       "<Figure size 640x480 with 1 Axes>"
      ]
     },
     "metadata": {},
     "output_type": "display_data"
    }
   ],
   "source": [
    "outputs = model(inputs)\n",
    "\n",
    "outputs = outputs[:, -1, :]\n",
    "#outputs = outputs.view(-1)\n",
    "\n",
    "outputs = outputs.detach().numpy()\n",
    "real = np.expand_dims(labels.numpy(), axis=1)\n",
    "\n",
    "outputs = sc.inverse_transform(outputs)\n",
    "real = sc.inverse_transform(real)\n",
    "\n",
    "plt.plot(real)\n",
    "plt.plot(outputs)\n",
    "plt.title('Stock Prediction(Training)')\n",
    "plt.legend(['Real', 'Prediction'])\n",
    "plt.show()"
   ]
  },
  {
   "cell_type": "code",
   "execution_count": 12,
   "metadata": {},
   "outputs": [],
   "source": [
    "# Save Model\n",
    "torch.save(model.state_dict(), 'model_v1')"
   ]
  },
  {
   "cell_type": "code",
   "execution_count": 140,
   "metadata": {
    "id": "dF1s4oD_omB_"
   },
   "outputs": [
    {
     "name": "stderr",
     "output_type": "stream",
     "text": [
      "GPU available: False, used: False\n",
      "TPU available: False, using: 0 TPU cores\n",
      "IPU available: False, using: 0 IPUs\n",
      "HPU available: False, using: 0 HPUs\n",
      "\n",
      "\n",
      "Finding best initial lr:   0%|                                                                 | 0/100 [00:00<?, ?it/s]\u001b[A\u001b[A\n",
      "\n",
      "Finding best initial lr:  51%|████████████████████████████                           | 51/100 [00:00<00:00, 458.31it/s]\u001b[A\u001b[A"
     ]
    },
    {
     "name": "stdout",
     "output_type": "stream",
     "text": [
      "output:  tensor([0.7980], grad_fn=<ReluBackward0>)\n"
     ]
    },
    {
     "name": "stderr",
     "output_type": "stream",
     "text": [
      "\n",
      "\n",
      "Finding best initial lr:  97%|█████████████████████████████████████████████████████▎ | 97/100 [00:00<00:00, 455.70it/s]\u001b[A\u001b[A`Trainer.fit` stopped: `max_steps=100` reached.\n",
      "Finding best initial lr: 100%|██████████████████████████████████████████████████████| 100/100 [00:00<00:00, 431.20it/s]\n",
      "Learning rate set to 0.17782794100389224\n",
      "Restoring states from the checkpoint path at C:\\Users\\Cristi\\Desktop\\working\\AI\\notebooks\\.lr_find_7c796ec7-8679-48b6-bfbd-e728cb96fdf0.ckpt\n",
      "Restored all states from the checkpoint at C:\\Users\\Cristi\\Desktop\\working\\AI\\notebooks\\.lr_find_7c796ec7-8679-48b6-bfbd-e728cb96fdf0.ckpt\n"
     ]
    },
    {
     "name": "stdout",
     "output_type": "stream",
     "text": [
      "total_loss:  tensor(40839.5681, grad_fn=<AddBackward0>)\n",
      "0.17782794100389224\n"
     ]
    }
   ],
   "source": [
    "# Init trainer\n",
    "trainer = pl.Trainer(max_epochs=NUM_EPOCHS)\n",
    "\n",
    "# Find a learning rate\n",
    "tuner = pl.tuner.Tuner(trainer)\n",
    "lr_finder = tuner.lr_find(model,\n",
    "                        train_dataloaders=dataloader,\n",
    "                        min_lr=0.00001,\n",
    "                        max_lr=1.0,\n",
    "                        early_stop_threshold=None)\n",
    "new_lr = lr_finder.suggestion()\n",
    "\n",
    "# Print found learning rate\n",
    "print(new_lr)\n",
    "\n",
    "# Set learning rate\n",
    "model.lr = new_lr"
   ]
  }
 ],
 "metadata": {
  "colab": {
   "provenance": []
  },
  "kernelspec": {
   "display_name": "Python 3 (ipykernel)",
   "language": "python",
   "name": "python3"
  },
  "language_info": {
   "codemirror_mode": {
    "name": "ipython",
    "version": 3
   },
   "file_extension": ".py",
   "mimetype": "text/x-python",
   "name": "python",
   "nbconvert_exporter": "python",
   "pygments_lexer": "ipython3",
   "version": "3.11.5"
  }
 },
 "nbformat": 4,
 "nbformat_minor": 4
}
