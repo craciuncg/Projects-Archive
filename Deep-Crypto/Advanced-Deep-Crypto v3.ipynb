{
 "cells": [
  {
   "cell_type": "code",
   "execution_count": 173,
   "metadata": {},
   "outputs": [],
   "source": [
    "import pandas as pd\n",
    "import scipy\n",
    "import numpy as np\n",
    "from sklearn.model_selection import train_test_split\n",
    "import matplotlib.pyplot as plt\n",
    "from mpl_toolkits.mplot3d import Axes3D\n",
    "import math\n",
    "from math import log2\n",
    "\n",
    "from numba import jit, cuda\n",
    "\n",
    "from sklearn.preprocessing import MinMaxScaler, StandardScaler\n",
    "from sklearn.tree import DecisionTreeRegressor\n",
    "from des import des_enc, random_bytes, group_bytes, des_enc_list"
   ]
  },
  {
   "cell_type": "code",
   "execution_count": 174,
   "metadata": {},
   "outputs": [],
   "source": [
    "import struct\n",
    "\n",
    "def convert_to_bytes(list):\n",
    "    return struct.pack('B' * len(list), *list)\n",
    "\n",
    "NUM_BYTES_KEY = 7\n",
    "NUM_BYTES_MSG = 8\n",
    "\n",
    "def generate_samples(msg, N):\n",
    "    inputs = []\n",
    "    keys = set()\n",
    "    labels = []\n",
    "    msg_bytes = convert_to_bytes(msg)\n",
    "    \n",
    "    for _ in range(N):\n",
    "        key = random_bytes(NUM_BYTES_KEY)\n",
    "        key_num = int.from_bytes(key)\n",
    "        key.append(0)\n",
    "        while key_num in keys:\n",
    "            key = random_bytes(NUM_BYTES_KEY)\n",
    "            key_num = int.from_bytes(key)\n",
    "            key.append(0)\n",
    "        \n",
    "        key_bytes = convert_to_bytes(key)\n",
    "        cipher_bytes = des_enc(key_bytes, msg_bytes)\n",
    "        cipher = [x for x in cipher_bytes]\n",
    "        #cipher_num = int.from_bytes(cipher)\n",
    "        \n",
    "        inputs.append(cipher)\n",
    "        labels.append(group_bytes(key, NUM_BYTES_KEY))\n",
    "        keys.add(key_num)\n",
    "    \n",
    "    return np.array(inputs), np.array(labels)"
   ]
  },
  {
   "cell_type": "code",
   "execution_count": 175,
   "metadata": {},
   "outputs": [],
   "source": [
    "def estimate_key(cipher, num_byte, inputs, keys):\n",
    "    model = DecisionTreeRegressor(min_samples_leaf=20)\n",
    "    model.fit(inputs, keys[:, num_byte])\n",
    "    \n",
    "    return model.predict([cipher])[0]"
   ]
  },
  {
   "cell_type": "code",
   "execution_count": 176,
   "metadata": {},
   "outputs": [
    {
     "data": {
      "text/plain": [
       "47.61857273515298"
      ]
     },
     "execution_count": 176,
     "metadata": {},
     "output_type": "execute_result"
    }
   ],
   "source": [
    "\n",
    "#TEST_KEY = 20217796232662129\n",
    "TEST_KEY_BYTES = random_bytes(7)\n",
    "TEST_KEY_GROUP = group_bytes(TEST_KEY_BYTES, NUM_BYTES_KEY)\n",
    "\n",
    "TEST_MSG = random_bytes(8)\n",
    "TEST_CIPHER = des_enc_list(TEST_KEY_BYTES, TEST_MSG)\n",
    "\n",
    "p = 1\n",
    "avg = [2**15 for _ in range(3)]\n",
    "avg.append(128)\n",
    "for x in np.abs(np.array(avg) - np.array(TEST_KEY_GROUP)).tolist():\n",
    "    p *= x\n",
    "log2(p)"
   ]
  },
  {
   "cell_type": "code",
   "execution_count": 177,
   "metadata": {},
   "outputs": [],
   "source": [
    "N_ROUNDS = 1\n",
    "N_SAMPLES = 100000\n",
    "\n",
    "def round(msg, cipher, key, num_byte, N_SAMPLES):\n",
    "    inputs, labels = generate_samples(msg, N_SAMPLES)\n",
    "    key_bar = math.floor(estimate_key(cipher, num_byte, inputs, labels))\n",
    "    return key[num_byte] - key_bar"
   ]
  },
  {
   "cell_type": "code",
   "execution_count": 178,
   "metadata": {},
   "outputs": [],
   "source": [
    "def test_work(msgs, ciphers, keys, num_byte, N_SAMPLES, N_ROUNDS):\n",
    "    P = {}\n",
    "    abs_d = []\n",
    "    \n",
    "    for msg, cipher, key in zip(msgs, ciphers, keys):\n",
    "        d = round(msg, cipher, key, num_byte, N_SAMPLES)\n",
    "        abs_d.append(abs(d))\n",
    "        if d in P:\n",
    "            P[d] += 1 / N_ROUNDS\n",
    "        else:\n",
    "            P[d] = 1 / N_ROUNDS\n",
    "    abs_d = np.array(abs_d)\n",
    "    return P, np.min(abs_d), np.max(abs_d), np.mean(abs_d)\n",
    "\n",
    "def test_all(num_byte, N_ROUNDS, N_SAMPLES):\n",
    "    df = pd.read_csv('DES_TRAIN.csv')\n",
    "    msgs = df.iloc[:N_ROUNDS, :(NUM_BYTES_MSG)].values\n",
    "    ciphers = df.iloc[:N_ROUNDS, NUM_BYTES_MSG:(2 * NUM_BYTES_MSG)].values\n",
    "    keys = df.iloc[:N_ROUNDS, (2 * NUM_BYTES_MSG):-1].values\n",
    "    keys = [group_bytes(key, NUM_BYTES_KEY) for key in keys]\n",
    "    \n",
    "    return test_work(msgs, ciphers, keys, num_byte, N_SAMPLES, N_ROUNDS)\n",
    "\n",
    "# P, min_d, max_d, avg_d = test_all(0, N_ROUNDS, N_SAMPLES)\n",
    "# print('Min distance: ', min_d)\n",
    "# print('Max distance: ', max_d)\n",
    "# print('Average distance: ', avg_d)\n",
    "# print('Distribution: ', P)\n",
    "# plt.bar(list(P.keys()), list(P.values()))"
   ]
  },
  {
   "cell_type": "code",
   "execution_count": 185,
   "metadata": {},
   "outputs": [
    {
     "name": "stdout",
     "output_type": "stream",
     "text": [
      "49.416114700621314\n",
      "45.47289411801147\n",
      "49.95950779260544\n",
      "42.32318815700669\n"
     ]
    }
   ],
   "source": [
    "exp_mean = []\n",
    "exp_us = []\n",
    "\n",
    "for _ in range(2):\n",
    "\n",
    "    TEST_KEY_BYTES = random_bytes(7)\n",
    "    TEST_KEY_GROUP = group_bytes(TEST_KEY_BYTES, NUM_BYTES_KEY)\n",
    "\n",
    "    TEST_MSG = random_bytes(8)\n",
    "    TEST_CIPHER = des_enc_list(TEST_KEY_BYTES, TEST_MSG)\n",
    "\n",
    "\n",
    "\n",
    "    p = 1\n",
    "    avg = [2**15 for _ in range(3)]\n",
    "    avg.append(128)\n",
    "    for x in np.abs(np.array(avg) - np.array(TEST_KEY_GROUP)).tolist():\n",
    "        p *= x\n",
    "\n",
    "    exp_mean.append(log2(p))\n",
    "    print(log2(p))\n",
    "\n",
    "    p = 1\n",
    "    for i in range(4):\n",
    "        err = abs(round(TEST_MSG, TEST_CIPHER, TEST_KEY_GROUP, i, N_SAMPLES))\n",
    "        p *= err\n",
    "\n",
    "    exp_us.append(log2(p))\n",
    "    print(log2(p))"
   ]
  },
  {
   "cell_type": "code",
   "execution_count": null,
   "metadata": {},
   "outputs": [],
   "source": []
  }
 ],
 "metadata": {
  "kernelspec": {
   "display_name": "Python 3",
   "language": "python",
   "name": "python3"
  },
  "language_info": {
   "codemirror_mode": {
    "name": "ipython",
    "version": 3
   },
   "file_extension": ".py",
   "mimetype": "text/x-python",
   "name": "python",
   "nbconvert_exporter": "python",
   "pygments_lexer": "ipython3",
   "version": "3.11.8"
  }
 },
 "nbformat": 4,
 "nbformat_minor": 2
}
