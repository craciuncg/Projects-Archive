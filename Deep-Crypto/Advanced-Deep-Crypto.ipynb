{
 "cells": [
  {
   "cell_type": "code",
   "execution_count": 64,
   "metadata": {},
   "outputs": [],
   "source": [
    "import pandas as pd\n",
    "import scipy\n",
    "import numpy as np\n",
    "from sklearn.model_selection import train_test_split\n",
    "import matplotlib.pyplot as plt\n",
    "from mpl_toolkits.mplot3d import Axes3D\n",
    "from math import log2\n",
    "import copy\n",
    "\n",
    "from sklearn.preprocessing import MinMaxScaler, StandardScaler\n",
    "from sklearn.tree import DecisionTreeRegressor\n",
    "from des import des_enc_list"
   ]
  },
  {
   "cell_type": "code",
   "execution_count": 65,
   "metadata": {},
   "outputs": [],
   "source": [
    "df_train = pd.read_csv('DES_TRAIN.csv')\n",
    "df_test = pd.read_csv('DES_TEST.csv')"
   ]
  },
  {
   "cell_type": "code",
   "execution_count": 66,
   "metadata": {},
   "outputs": [],
   "source": [
    "NUM_MSG_BYTES = 8\n",
    "NUM_KEY_BYTES = 7\n",
    "\n",
    "def embed(df):\n",
    "    key = np.multiply(df['K0'].to_numpy(), df['K1'].to_numpy())\n",
    "    \n",
    "    inputs = df.iloc[:, :(2 * NUM_MSG_BYTES)].values\n",
    "    return inputs, key"
   ]
  },
  {
   "cell_type": "code",
   "execution_count": 67,
   "metadata": {},
   "outputs": [
    {
     "data": {
      "text/plain": [
       "array([[143, 183, 166, ...,   3,  72, 126],\n",
       "       [ 55,  49, 105, ..., 221, 101, 194],\n",
       "       [  7, 166,  66, ...,  47,  68,  48],\n",
       "       ...,\n",
       "       [ 75, 185, 163, ..., 137, 106, 253],\n",
       "       [100,  80, 220, ...,  65,  47, 161],\n",
       "       [164,  15,  43, ..., 153,  95, 181]], dtype=int64)"
      ]
     },
     "execution_count": 67,
     "metadata": {},
     "output_type": "execute_result"
    }
   ],
   "source": [
    "inputs, labels = embed(df_train)\n",
    "inputs"
   ]
  },
  {
   "cell_type": "code",
   "execution_count": 68,
   "metadata": {},
   "outputs": [
    {
     "data": {
      "text/html": [
       "<style>#sk-container-id-3 {color: black;}#sk-container-id-3 pre{padding: 0;}#sk-container-id-3 div.sk-toggleable {background-color: white;}#sk-container-id-3 label.sk-toggleable__label {cursor: pointer;display: block;width: 100%;margin-bottom: 0;padding: 0.3em;box-sizing: border-box;text-align: center;}#sk-container-id-3 label.sk-toggleable__label-arrow:before {content: \"▸\";float: left;margin-right: 0.25em;color: #696969;}#sk-container-id-3 label.sk-toggleable__label-arrow:hover:before {color: black;}#sk-container-id-3 div.sk-estimator:hover label.sk-toggleable__label-arrow:before {color: black;}#sk-container-id-3 div.sk-toggleable__content {max-height: 0;max-width: 0;overflow: hidden;text-align: left;background-color: #f0f8ff;}#sk-container-id-3 div.sk-toggleable__content pre {margin: 0.2em;color: black;border-radius: 0.25em;background-color: #f0f8ff;}#sk-container-id-3 input.sk-toggleable__control:checked~div.sk-toggleable__content {max-height: 200px;max-width: 100%;overflow: auto;}#sk-container-id-3 input.sk-toggleable__control:checked~label.sk-toggleable__label-arrow:before {content: \"▾\";}#sk-container-id-3 div.sk-estimator input.sk-toggleable__control:checked~label.sk-toggleable__label {background-color: #d4ebff;}#sk-container-id-3 div.sk-label input.sk-toggleable__control:checked~label.sk-toggleable__label {background-color: #d4ebff;}#sk-container-id-3 input.sk-hidden--visually {border: 0;clip: rect(1px 1px 1px 1px);clip: rect(1px, 1px, 1px, 1px);height: 1px;margin: -1px;overflow: hidden;padding: 0;position: absolute;width: 1px;}#sk-container-id-3 div.sk-estimator {font-family: monospace;background-color: #f0f8ff;border: 1px dotted black;border-radius: 0.25em;box-sizing: border-box;margin-bottom: 0.5em;}#sk-container-id-3 div.sk-estimator:hover {background-color: #d4ebff;}#sk-container-id-3 div.sk-parallel-item::after {content: \"\";width: 100%;border-bottom: 1px solid gray;flex-grow: 1;}#sk-container-id-3 div.sk-label:hover label.sk-toggleable__label {background-color: #d4ebff;}#sk-container-id-3 div.sk-serial::before {content: \"\";position: absolute;border-left: 1px solid gray;box-sizing: border-box;top: 0;bottom: 0;left: 50%;z-index: 0;}#sk-container-id-3 div.sk-serial {display: flex;flex-direction: column;align-items: center;background-color: white;padding-right: 0.2em;padding-left: 0.2em;position: relative;}#sk-container-id-3 div.sk-item {position: relative;z-index: 1;}#sk-container-id-3 div.sk-parallel {display: flex;align-items: stretch;justify-content: center;background-color: white;position: relative;}#sk-container-id-3 div.sk-item::before, #sk-container-id-3 div.sk-parallel-item::before {content: \"\";position: absolute;border-left: 1px solid gray;box-sizing: border-box;top: 0;bottom: 0;left: 50%;z-index: -1;}#sk-container-id-3 div.sk-parallel-item {display: flex;flex-direction: column;z-index: 1;position: relative;background-color: white;}#sk-container-id-3 div.sk-parallel-item:first-child::after {align-self: flex-end;width: 50%;}#sk-container-id-3 div.sk-parallel-item:last-child::after {align-self: flex-start;width: 50%;}#sk-container-id-3 div.sk-parallel-item:only-child::after {width: 0;}#sk-container-id-3 div.sk-dashed-wrapped {border: 1px dashed gray;margin: 0 0.4em 0.5em 0.4em;box-sizing: border-box;padding-bottom: 0.4em;background-color: white;}#sk-container-id-3 div.sk-label label {font-family: monospace;font-weight: bold;display: inline-block;line-height: 1.2em;}#sk-container-id-3 div.sk-label-container {text-align: center;}#sk-container-id-3 div.sk-container {/* jupyter's `normalize.less` sets `[hidden] { display: none; }` but bootstrap.min.css set `[hidden] { display: none !important; }` so we also need the `!important` here to be able to override the default hidden behavior on the sphinx rendered scikit-learn.org. See: https://github.com/scikit-learn/scikit-learn/issues/21755 */display: inline-block !important;position: relative;}#sk-container-id-3 div.sk-text-repr-fallback {display: none;}</style><div id=\"sk-container-id-3\" class=\"sk-top-container\"><div class=\"sk-text-repr-fallback\"><pre>DecisionTreeRegressor(min_samples_leaf=50)</pre><b>In a Jupyter environment, please rerun this cell to show the HTML representation or trust the notebook. <br />On GitHub, the HTML representation is unable to render, please try loading this page with nbviewer.org.</b></div><div class=\"sk-container\" hidden><div class=\"sk-item\"><div class=\"sk-estimator sk-toggleable\"><input class=\"sk-toggleable__control sk-hidden--visually\" id=\"sk-estimator-id-3\" type=\"checkbox\" checked><label for=\"sk-estimator-id-3\" class=\"sk-toggleable__label sk-toggleable__label-arrow\">DecisionTreeRegressor</label><div class=\"sk-toggleable__content\"><pre>DecisionTreeRegressor(min_samples_leaf=50)</pre></div></div></div></div></div>"
      ],
      "text/plain": [
       "DecisionTreeRegressor(min_samples_leaf=50)"
      ]
     },
     "execution_count": 68,
     "metadata": {},
     "output_type": "execute_result"
    }
   ],
   "source": [
    "model = DecisionTreeRegressor(min_samples_leaf=50)\n",
    "model.fit(inputs, labels)"
   ]
  },
  {
   "cell_type": "code",
   "execution_count": 69,
   "metadata": {},
   "outputs": [
    {
     "data": {
      "text/html": [
       "<div>\n",
       "<style scoped>\n",
       "    .dataframe tbody tr th:only-of-type {\n",
       "        vertical-align: middle;\n",
       "    }\n",
       "\n",
       "    .dataframe tbody tr th {\n",
       "        vertical-align: top;\n",
       "    }\n",
       "\n",
       "    .dataframe thead th {\n",
       "        text-align: right;\n",
       "    }\n",
       "</style>\n",
       "<table border=\"1\" class=\"dataframe\">\n",
       "  <thead>\n",
       "    <tr style=\"text-align: right;\">\n",
       "      <th></th>\n",
       "      <th>M0</th>\n",
       "      <th>M1</th>\n",
       "      <th>M2</th>\n",
       "      <th>M3</th>\n",
       "      <th>M4</th>\n",
       "      <th>M5</th>\n",
       "      <th>M6</th>\n",
       "      <th>M7</th>\n",
       "      <th>C0</th>\n",
       "      <th>C1</th>\n",
       "      <th>...</th>\n",
       "      <th>C6</th>\n",
       "      <th>C7</th>\n",
       "      <th>K0</th>\n",
       "      <th>K1</th>\n",
       "      <th>K2</th>\n",
       "      <th>K3</th>\n",
       "      <th>K4</th>\n",
       "      <th>K5</th>\n",
       "      <th>K6</th>\n",
       "      <th>K7</th>\n",
       "    </tr>\n",
       "  </thead>\n",
       "  <tbody>\n",
       "    <tr>\n",
       "      <th>0</th>\n",
       "      <td>143</td>\n",
       "      <td>183</td>\n",
       "      <td>166</td>\n",
       "      <td>120</td>\n",
       "      <td>131</td>\n",
       "      <td>201</td>\n",
       "      <td>40</td>\n",
       "      <td>30</td>\n",
       "      <td>56</td>\n",
       "      <td>172</td>\n",
       "      <td>...</td>\n",
       "      <td>72</td>\n",
       "      <td>126</td>\n",
       "      <td>38</td>\n",
       "      <td>236</td>\n",
       "      <td>221</td>\n",
       "      <td>89</td>\n",
       "      <td>56</td>\n",
       "      <td>65</td>\n",
       "      <td>172</td>\n",
       "      <td>NaN</td>\n",
       "    </tr>\n",
       "    <tr>\n",
       "      <th>1</th>\n",
       "      <td>55</td>\n",
       "      <td>49</td>\n",
       "      <td>105</td>\n",
       "      <td>113</td>\n",
       "      <td>255</td>\n",
       "      <td>64</td>\n",
       "      <td>154</td>\n",
       "      <td>163</td>\n",
       "      <td>53</td>\n",
       "      <td>72</td>\n",
       "      <td>...</td>\n",
       "      <td>101</td>\n",
       "      <td>194</td>\n",
       "      <td>185</td>\n",
       "      <td>109</td>\n",
       "      <td>112</td>\n",
       "      <td>61</td>\n",
       "      <td>81</td>\n",
       "      <td>231</td>\n",
       "      <td>76</td>\n",
       "      <td>NaN</td>\n",
       "    </tr>\n",
       "    <tr>\n",
       "      <th>2</th>\n",
       "      <td>7</td>\n",
       "      <td>166</td>\n",
       "      <td>66</td>\n",
       "      <td>59</td>\n",
       "      <td>98</td>\n",
       "      <td>252</td>\n",
       "      <td>118</td>\n",
       "      <td>126</td>\n",
       "      <td>198</td>\n",
       "      <td>34</td>\n",
       "      <td>...</td>\n",
       "      <td>68</td>\n",
       "      <td>48</td>\n",
       "      <td>95</td>\n",
       "      <td>22</td>\n",
       "      <td>117</td>\n",
       "      <td>230</td>\n",
       "      <td>31</td>\n",
       "      <td>51</td>\n",
       "      <td>0</td>\n",
       "      <td>NaN</td>\n",
       "    </tr>\n",
       "    <tr>\n",
       "      <th>3</th>\n",
       "      <td>36</td>\n",
       "      <td>161</td>\n",
       "      <td>192</td>\n",
       "      <td>222</td>\n",
       "      <td>177</td>\n",
       "      <td>164</td>\n",
       "      <td>123</td>\n",
       "      <td>40</td>\n",
       "      <td>3</td>\n",
       "      <td>95</td>\n",
       "      <td>...</td>\n",
       "      <td>127</td>\n",
       "      <td>183</td>\n",
       "      <td>38</td>\n",
       "      <td>59</td>\n",
       "      <td>124</td>\n",
       "      <td>165</td>\n",
       "      <td>93</td>\n",
       "      <td>128</td>\n",
       "      <td>87</td>\n",
       "      <td>NaN</td>\n",
       "    </tr>\n",
       "    <tr>\n",
       "      <th>4</th>\n",
       "      <td>220</td>\n",
       "      <td>25</td>\n",
       "      <td>117</td>\n",
       "      <td>194</td>\n",
       "      <td>26</td>\n",
       "      <td>123</td>\n",
       "      <td>71</td>\n",
       "      <td>157</td>\n",
       "      <td>10</td>\n",
       "      <td>148</td>\n",
       "      <td>...</td>\n",
       "      <td>146</td>\n",
       "      <td>70</td>\n",
       "      <td>109</td>\n",
       "      <td>235</td>\n",
       "      <td>160</td>\n",
       "      <td>236</td>\n",
       "      <td>39</td>\n",
       "      <td>76</td>\n",
       "      <td>112</td>\n",
       "      <td>NaN</td>\n",
       "    </tr>\n",
       "  </tbody>\n",
       "</table>\n",
       "<p>5 rows × 24 columns</p>\n",
       "</div>"
      ],
      "text/plain": [
       "    M0   M1   M2   M3   M4   M5   M6   M7   C0   C1  ...   C6   C7   K0   K1  \\\n",
       "0  143  183  166  120  131  201   40   30   56  172  ...   72  126   38  236   \n",
       "1   55   49  105  113  255   64  154  163   53   72  ...  101  194  185  109   \n",
       "2    7  166   66   59   98  252  118  126  198   34  ...   68   48   95   22   \n",
       "3   36  161  192  222  177  164  123   40    3   95  ...  127  183   38   59   \n",
       "4  220   25  117  194   26  123   71  157   10  148  ...  146   70  109  235   \n",
       "\n",
       "    K2   K3  K4   K5   K6  K7  \n",
       "0  221   89  56   65  172 NaN  \n",
       "1  112   61  81  231   76 NaN  \n",
       "2  117  230  31   51    0 NaN  \n",
       "3  124  165  93  128   87 NaN  \n",
       "4  160  236  39   76  112 NaN  \n",
       "\n",
       "[5 rows x 24 columns]"
      ]
     },
     "execution_count": 69,
     "metadata": {},
     "output_type": "execute_result"
    }
   ],
   "source": [
    "df_train.head()"
   ]
  },
  {
   "cell_type": "code",
   "execution_count": 70,
   "metadata": {},
   "outputs": [
    {
     "name": "stdout",
     "output_type": "stream",
     "text": [
      "Average train error:  11021.516647200422\n",
      "Max train error:  55605.21538461538\n",
      "Min train error:  0.0\n"
     ]
    }
   ],
   "source": [
    "predictions = model.predict(inputs)\n",
    "error = np.abs(predictions - labels)\n",
    "mean_error = np.mean(error)\n",
    "max_error = np.max(error)\n",
    "print('Average train error: ', mean_error)\n",
    "#print('Average exponent train error: ', log2(mean_error))\n",
    "print('Max train error: ', max_error)\n",
    "#print('Max exponent train error: ', log2(max_error + 1))\n",
    "print('Min train error: ', np.min(error))"
   ]
  },
  {
   "cell_type": "code",
   "execution_count": 71,
   "metadata": {},
   "outputs": [],
   "source": [
    "inputs_test, labels_test = embed(df_test)"
   ]
  },
  {
   "cell_type": "code",
   "execution_count": 72,
   "metadata": {},
   "outputs": [
    {
     "name": "stdout",
     "output_type": "stream",
     "text": [
      "[ 8968 20165  2090  2242 25615]\n"
     ]
    },
    {
     "data": {
      "text/html": [
       "<div>\n",
       "<style scoped>\n",
       "    .dataframe tbody tr th:only-of-type {\n",
       "        vertical-align: middle;\n",
       "    }\n",
       "\n",
       "    .dataframe tbody tr th {\n",
       "        vertical-align: top;\n",
       "    }\n",
       "\n",
       "    .dataframe thead th {\n",
       "        text-align: right;\n",
       "    }\n",
       "</style>\n",
       "<table border=\"1\" class=\"dataframe\">\n",
       "  <thead>\n",
       "    <tr style=\"text-align: right;\">\n",
       "      <th></th>\n",
       "      <th>M0</th>\n",
       "      <th>M1</th>\n",
       "      <th>M2</th>\n",
       "      <th>M3</th>\n",
       "      <th>M4</th>\n",
       "      <th>M5</th>\n",
       "      <th>M6</th>\n",
       "      <th>M7</th>\n",
       "      <th>C0</th>\n",
       "      <th>C1</th>\n",
       "      <th>...</th>\n",
       "      <th>C6</th>\n",
       "      <th>C7</th>\n",
       "      <th>K0</th>\n",
       "      <th>K1</th>\n",
       "      <th>K2</th>\n",
       "      <th>K3</th>\n",
       "      <th>K4</th>\n",
       "      <th>K5</th>\n",
       "      <th>K6</th>\n",
       "      <th>K7</th>\n",
       "    </tr>\n",
       "  </thead>\n",
       "  <tbody>\n",
       "    <tr>\n",
       "      <th>0</th>\n",
       "      <td>65</td>\n",
       "      <td>68</td>\n",
       "      <td>79</td>\n",
       "      <td>13</td>\n",
       "      <td>212</td>\n",
       "      <td>77</td>\n",
       "      <td>121</td>\n",
       "      <td>199</td>\n",
       "      <td>158</td>\n",
       "      <td>9</td>\n",
       "      <td>...</td>\n",
       "      <td>225</td>\n",
       "      <td>189</td>\n",
       "      <td>142</td>\n",
       "      <td>49</td>\n",
       "      <td>82</td>\n",
       "      <td>244</td>\n",
       "      <td>83</td>\n",
       "      <td>233</td>\n",
       "      <td>77</td>\n",
       "      <td>NaN</td>\n",
       "    </tr>\n",
       "    <tr>\n",
       "      <th>1</th>\n",
       "      <td>87</td>\n",
       "      <td>90</td>\n",
       "      <td>127</td>\n",
       "      <td>177</td>\n",
       "      <td>147</td>\n",
       "      <td>241</td>\n",
       "      <td>250</td>\n",
       "      <td>111</td>\n",
       "      <td>32</td>\n",
       "      <td>22</td>\n",
       "      <td>...</td>\n",
       "      <td>78</td>\n",
       "      <td>51</td>\n",
       "      <td>9</td>\n",
       "      <td>103</td>\n",
       "      <td>207</td>\n",
       "      <td>36</td>\n",
       "      <td>33</td>\n",
       "      <td>97</td>\n",
       "      <td>147</td>\n",
       "      <td>NaN</td>\n",
       "    </tr>\n",
       "    <tr>\n",
       "      <th>2</th>\n",
       "      <td>245</td>\n",
       "      <td>232</td>\n",
       "      <td>239</td>\n",
       "      <td>102</td>\n",
       "      <td>156</td>\n",
       "      <td>110</td>\n",
       "      <td>137</td>\n",
       "      <td>5</td>\n",
       "      <td>52</td>\n",
       "      <td>57</td>\n",
       "      <td>...</td>\n",
       "      <td>120</td>\n",
       "      <td>176</td>\n",
       "      <td>232</td>\n",
       "      <td>179</td>\n",
       "      <td>193</td>\n",
       "      <td>97</td>\n",
       "      <td>131</td>\n",
       "      <td>98</td>\n",
       "      <td>78</td>\n",
       "      <td>NaN</td>\n",
       "    </tr>\n",
       "    <tr>\n",
       "      <th>3</th>\n",
       "      <td>82</td>\n",
       "      <td>97</td>\n",
       "      <td>172</td>\n",
       "      <td>131</td>\n",
       "      <td>223</td>\n",
       "      <td>176</td>\n",
       "      <td>36</td>\n",
       "      <td>247</td>\n",
       "      <td>174</td>\n",
       "      <td>62</td>\n",
       "      <td>...</td>\n",
       "      <td>6</td>\n",
       "      <td>29</td>\n",
       "      <td>219</td>\n",
       "      <td>166</td>\n",
       "      <td>23</td>\n",
       "      <td>104</td>\n",
       "      <td>199</td>\n",
       "      <td>29</td>\n",
       "      <td>237</td>\n",
       "      <td>NaN</td>\n",
       "    </tr>\n",
       "    <tr>\n",
       "      <th>4</th>\n",
       "      <td>245</td>\n",
       "      <td>228</td>\n",
       "      <td>67</td>\n",
       "      <td>73</td>\n",
       "      <td>69</td>\n",
       "      <td>200</td>\n",
       "      <td>143</td>\n",
       "      <td>254</td>\n",
       "      <td>102</td>\n",
       "      <td>91</td>\n",
       "      <td>...</td>\n",
       "      <td>118</td>\n",
       "      <td>141</td>\n",
       "      <td>197</td>\n",
       "      <td>202</td>\n",
       "      <td>214</td>\n",
       "      <td>74</td>\n",
       "      <td>224</td>\n",
       "      <td>221</td>\n",
       "      <td>6</td>\n",
       "      <td>NaN</td>\n",
       "    </tr>\n",
       "  </tbody>\n",
       "</table>\n",
       "<p>5 rows × 24 columns</p>\n",
       "</div>"
      ],
      "text/plain": [
       "    M0   M1   M2   M3   M4   M5   M6   M7   C0  C1  ...   C6   C7   K0   K1  \\\n",
       "0   65   68   79   13  212   77  121  199  158   9  ...  225  189  142   49   \n",
       "1   87   90  127  177  147  241  250  111   32  22  ...   78   51    9  103   \n",
       "2  245  232  239  102  156  110  137    5   52  57  ...  120  176  232  179   \n",
       "3   82   97  172  131  223  176   36  247  174  62  ...    6   29  219  166   \n",
       "4  245  228   67   73   69  200  143  254  102  91  ...  118  141  197  202   \n",
       "\n",
       "    K2   K3   K4   K5   K6  K7  \n",
       "0   82  244   83  233   77 NaN  \n",
       "1  207   36   33   97  147 NaN  \n",
       "2  193   97  131   98   78 NaN  \n",
       "3   23  104  199   29  237 NaN  \n",
       "4  214   74  224  221    6 NaN  \n",
       "\n",
       "[5 rows x 24 columns]"
      ]
     },
     "execution_count": 72,
     "metadata": {},
     "output_type": "execute_result"
    }
   ],
   "source": [
    "print(labels[:5])\n",
    "df_test.head()"
   ]
  },
  {
   "cell_type": "code",
   "execution_count": 73,
   "metadata": {},
   "outputs": [
    {
     "name": "stdout",
     "output_type": "stream",
     "text": [
      "[14294.67857143 10382.83333333 24748.77192982 24012.63043478\n",
      " 10686.66666667]\n"
     ]
    }
   ],
   "source": [
    "print(np.abs(np.array(model.predict(inputs_test[:5])) - np.array(labels_test[:5])))"
   ]
  },
  {
   "cell_type": "code",
   "execution_count": 74,
   "metadata": {},
   "outputs": [
    {
     "name": "stdout",
     "output_type": "stream",
     "text": [
      "Average error:  12230.658772477595\n",
      "Max error:  57880.032258064515\n",
      "Min error:  0.0\n"
     ]
    }
   ],
   "source": [
    "predictions_test = model.predict(inputs_test)\n",
    "error = np.abs(predictions_test - labels_test)\n",
    "mean_error = np.mean(error)\n",
    "max_error = np.max(error)\n",
    "print('Average error: ', mean_error)\n",
    "#print('Average exponent error: ', log2(mean_error))\n",
    "print('Max error: ', max_error)\n",
    "print('Min error: ', np.min(error))\n",
    "#print('Max exponent error: ', log2(max_error))"
   ]
  },
  {
   "cell_type": "code",
   "execution_count": 75,
   "metadata": {},
   "outputs": [],
   "source": [
    "def prob(dist, d):\n",
    "    if d not in dist:\n",
    "        return 0\n",
    "    return dist[d]"
   ]
  },
  {
   "cell_type": "code",
   "execution_count": 76,
   "metadata": {},
   "outputs": [
    {
     "data": {
      "text/plain": [
       "<BarContainer object of 81749 artists>"
      ]
     },
     "execution_count": 76,
     "metadata": {},
     "output_type": "execute_result"
    },
    {
     "data": {
      "image/png": "[encoded data removed]",
      "text/plain": [
       "<Figure size 640x480 with 1 Axes>"
      ]
     },
     "metadata": {},
     "output_type": "display_data"
    }
   ],
   "source": [
    "from collections import Counter\n",
    "import math\n",
    "\n",
    "predictions_test = np.array([math.floor(p) for p in predictions_test])\n",
    "error_dist = (labels_test - predictions_test)\n",
    "error_dist = dict(Counter(error_dist))\n",
    "dists = np.array(list(error_dist.keys()))\n",
    "freq = np.array(list(error_dist.values())) / len(predictions_test)\n",
    "error_dist = dict(zip(dists, freq))\n",
    "plt.bar(dists, freq)"
   ]
  },
  {
   "cell_type": "code",
   "execution_count": null,
   "metadata": {},
   "outputs": [],
   "source": []
  },
  {
   "cell_type": "code",
   "execution_count": 80,
   "metadata": {},
   "outputs": [
    {
     "name": "stdout",
     "output_type": "stream",
     "text": [
      "13090 25287\n",
      "Calculated distribution\n"
     ]
    },
    {
     "data": {
      "text/plain": [
       "<BarContainer object of 131072 artists>"
      ]
     },
     "execution_count": 80,
     "metadata": {},
     "output_type": "execute_result"
    },
    {
     "data": {
      "image/png": "[encoded data removed]",
      "text/plain": [
       "<Figure size 640x480 with 1 Axes>"
      ]
     },
     "metadata": {},
     "output_type": "display_data"
    }
   ],
   "source": [
    "MSG1 = [121, 22, 234, 112, 23, 10, 55, 24]\n",
    "MSG2 = [54, 63, 23, 54, 11, 0, 42, 13]\n",
    "\n",
    "KEY = [255, 255, 30, 40, 50, 60, 70]\n",
    "\n",
    "C1 = des_enc_list(copy.deepcopy(KEY), MSG1)\n",
    "C2 = des_enc_list(copy.deepcopy(KEY), MSG2)\n",
    "\n",
    "key_bar1 = math.floor(model.predict([[*MSG1, *C1]])[0])\n",
    "key_bar2 = math.floor(model.predict([[*MSG2, *C2]])[0])\n",
    "\n",
    "k2 = min(key_bar1, key_bar2)\n",
    "k1 = max(key_bar1, key_bar2)\n",
    "\n",
    "delta = abs(k2 - k1)\n",
    "\n",
    "print(k2, k1)\n",
    "p1 = {}\n",
    "\n",
    "for d in range(-2**16, 2**16):\n",
    "    p1[d] = prob(error_dist, d) * prob(error_dist, d - delta)\n",
    "\n",
    "print('Calculated distribution')\n",
    "\n",
    "plt.bar(list(p1.keys()), list(p1.values()))"
   ]
  },
  {
   "cell_type": "code",
   "execution_count": 85,
   "metadata": {},
   "outputs": [
    {
     "name": "stdout",
     "output_type": "stream",
     "text": [
      "Calculated distribution\n"
     ]
    },
    {
     "data": {
      "text/plain": [
       "<BarContainer object of 131072 artists>"
      ]
     },
     "execution_count": 85,
     "metadata": {},
     "output_type": "execute_result"
    },
    {
     "data": {
      "image/png": "[encoded data removed]",
      "text/plain": [
       "<Figure size 640x480 with 1 Axes>"
      ]
     },
     "metadata": {},
     "output_type": "display_data"
    }
   ],
   "source": [
    "p11 = {}\n",
    "\n",
    "for d in range(-2**16, 2**16):\n",
    "    p11[d] = prob(error_dist, d) * prob(error_dist, d + delta)\n",
    "\n",
    "print('Calculated distribution')\n",
    "\n",
    "plt.bar(list(p11.keys()), list(p11.values()))"
   ]
  },
  {
   "cell_type": "code",
   "execution_count": 82,
   "metadata": {},
   "outputs": [
    {
     "name": "stdout",
     "output_type": "stream",
     "text": [
      "6.109830346666667e-06 9.189312888889702e-06\n",
      "9.189312888889702e-06\n",
      "0.09229282004896072\n"
     ]
    }
   ],
   "source": [
    "left = 0\n",
    "for d in range(-2**16, 0):\n",
    "    left += prob(p1, d)\n",
    "\n",
    "right = 0\n",
    "de = 0\n",
    "for d in range(0, 2**16):\n",
    "    right += prob(p1, d)\n",
    "    de += prob(p1, d) * d\n",
    "\n",
    "print(left, right)\n",
    "print(max(left, right))\n",
    "print(de)"
   ]
  },
  {
   "cell_type": "code",
   "execution_count": 86,
   "metadata": {},
   "outputs": [
    {
     "name": "stdout",
     "output_type": "stream",
     "text": [
      "12332 23594\n"
     ]
    }
   ],
   "source": [
    "MSG1 = [121, 22, 234, 112, 23, 10, 55, 24]\n",
    "MSG2 = [54, 63, 23, 54, 11, 0, 42, 13]\n",
    "MSG3 = [132, 52, 33, 42, 145, 111, 134, 13]\n",
    "\n",
    "KEY = [10, 20, 30, 40, 50, 60, 70]\n",
    "\n",
    "C1 = des_enc_list(copy.deepcopy(KEY), MSG1)\n",
    "C2 = des_enc_list(copy.deepcopy(KEY), MSG2)\n",
    "C3 = des_enc_list(copy.deepcopy(KEY), MSG3)\n",
    "\n",
    "key_bar1 = math.floor(model.predict([[*MSG1, *C1]])[0])\n",
    "key_bar2 = math.floor(model.predict([[*MSG2, *C2]])[0])\n",
    "key_bar3 = math.floor(model.predict([[*MSG3, *C3]])[0])\n",
    "\n",
    "k2 = min(key_bar1, key_bar2)\n",
    "k1 = max(key_bar1, key_bar2)\n",
    "\n",
    "k3 = min(k2, key_bar3)\n",
    "\n",
    "print(k3, k1)"
   ]
  },
  {
   "cell_type": "code",
   "execution_count": null,
   "metadata": {},
   "outputs": [],
   "source": []
  }
 ],
 "metadata": {
  "kernelspec": {
   "display_name": "Python 3",
   "language": "python",
   "name": "python3"
  },
  "language_info": {
   "codemirror_mode": {
    "name": "ipython",
    "version": 3
   },
   "file_extension": ".py",
   "mimetype": "text/x-python",
   "name": "python",
   "nbconvert_exporter": "python",
   "pygments_lexer": "ipython3",
   "version": "3.11.8"
  }
 },
 "nbformat": 4,
 "nbformat_minor": 2
}
