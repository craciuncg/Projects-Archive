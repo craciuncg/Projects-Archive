{
 "cells": [
  {
   "cell_type": "code",
   "execution_count": 1,
   "metadata": {},
   "outputs": [],
   "source": [
    "import pandas as pd\n",
    "import scipy\n",
    "import numpy as np\n",
    "from sklearn.model_selection import train_test_split\n",
    "import matplotlib.pyplot as plt\n",
    "from mpl_toolkits.mplot3d import Axes3D\n",
    "from math import log2\n",
    "from joblib import parallel_backend\n",
    "\n",
    "from sklearn.preprocessing import MinMaxScaler, StandardScaler\n",
    "from sklearn.tree import DecisionTreeRegressor\n",
    "from mlinsights.mlmodel.piecewise_tree_regression import PiecewiseTreeRegressor\n",
    "import copy"
   ]
  },
  {
   "cell_type": "code",
   "execution_count": 2,
   "metadata": {},
   "outputs": [],
   "source": [
    "df_train = pd.read_csv('DES_TRAIN.csv')\n",
    "df_test = pd.read_csv('DES_TEST.csv')"
   ]
  },
  {
   "cell_type": "code",
   "execution_count": 3,
   "metadata": {},
   "outputs": [],
   "source": [
    "def embed(df):\n",
    "    key = df['Key'].to_numpy()\n",
    "    inputs = df.iloc[:, :(df.shape[1] - 1)].values\n",
    "    \n",
    "    inputs = inputs.copy(order='C')\n",
    "    key = key.copy(order='C')\n",
    "    \n",
    "    return inputs.astype('float64'), key.astype('float64')"
   ]
  },
  {
   "cell_type": "code",
   "execution_count": 4,
   "metadata": {},
   "outputs": [],
   "source": [
    "inputs, labels = embed(df_train)"
   ]
  },
  {
   "cell_type": "code",
   "execution_count": 5,
   "metadata": {},
   "outputs": [],
   "source": [
    "model = PiecewiseTreeRegressor(criterion='mselin')\n",
    "\n",
    "with parallel_backend('threading', n_jobs=10):\n",
    "    model.fit(inputs, labels)"
   ]
  },
  {
   "cell_type": "code",
   "execution_count": null,
   "metadata": {},
   "outputs": [],
   "source": [
    "df_train.head()"
   ]
  },
  {
   "cell_type": "code",
   "execution_count": null,
   "metadata": {},
   "outputs": [],
   "source": [
    "predictions = model.predict(inputs)\n",
    "error = np.abs(predictions - labels)\n",
    "mean_error = np.mean(np.array([x for x in error if x > 0]))\n",
    "max_error = np.max(error)\n",
    "print('Average train error: ', mean_error)\n",
    "print('Average exponent train error: ', log2(mean_error))\n",
    "print('Max train error: ', max_error)\n",
    "print('Max exponent train error: ', log2(max_error))"
   ]
  },
  {
   "cell_type": "code",
   "execution_count": null,
   "metadata": {},
   "outputs": [],
   "source": [
    "inputs_test, labels_test = embed(df_test)"
   ]
  },
  {
   "cell_type": "code",
   "execution_count": null,
   "metadata": {},
   "outputs": [],
   "source": [
    "print(labels[:5])\n",
    "df_test.head()"
   ]
  },
  {
   "cell_type": "code",
   "execution_count": null,
   "metadata": {},
   "outputs": [],
   "source": [
    "print(np.abs(np.array(model.predict(inputs_test[:5])) - np.array(labels_test[:5])))"
   ]
  },
  {
   "cell_type": "code",
   "execution_count": null,
   "metadata": {},
   "outputs": [],
   "source": [
    "predictions_test = model.predict(inputs_test)\n",
    "error = np.abs(predictions_test - labels_test)\n",
    "mean_error = np.mean(np.array([x for x in error if x > 0]))\n",
    "max_error = np.max(error)\n",
    "print('Average error: ', mean_error)\n",
    "print('Average exponent error: ', log2(mean_error))\n",
    "print('Max error: ', max_error)\n",
    "print('Max exponent error: ', log2(max_error))"
   ]
  }
 ],
 "metadata": {
  "kernelspec": {
   "display_name": "Python 3",
   "language": "python",
   "name": "python3"
  },
  "language_info": {
   "codemirror_mode": {
    "name": "ipython",
    "version": 3
   },
   "file_extension": ".py",
   "mimetype": "text/x-python",
   "name": "python",
   "nbconvert_exporter": "python",
   "pygments_lexer": "ipython3",
   "version": "3.11.8"
  }
 },
 "nbformat": 4,
 "nbformat_minor": 2
}
